{
 "cells": [
  {
   "cell_type": "code",
   "execution_count": 1,
   "metadata": {},
   "outputs": [
    {
     "name": "stdout",
     "output_type": "stream",
     "text": [
      "hello world\n"
     ]
    }
   ],
   "source": [
    "print('hello world')"
   ]
  },
  {
   "cell_type": "markdown",
   "metadata": {},
   "source": [
    "### syntax:\n",
    " - # for var  in range(start,end,diff):\n",
    "         statements\n",
    "        - in is membership operators"
   ]
  },
  {
   "cell_type": "code",
   "execution_count": 4,
   "metadata": {},
   "outputs": [
    {
     "name": "stdout",
     "output_type": "stream",
     "text": [
      "Enter a namedinesh\n",
      "dinesh\n",
      "dinesh\n",
      "dinesh\n",
      "dinesh\n",
      "dinesh\n",
      "dinesh\n",
      "dinesh\n",
      "dinesh\n",
      "dinesh\n",
      "dinesh\n"
     ]
    }
   ],
   "source": [
    "a= input(\"Enter a name\")\n",
    "for i in range(1,11):\n",
    "      print(a)"
   ]
  },
  {
   "cell_type": "code",
   "execution_count": 4,
   "metadata": {},
   "outputs": [
    {
     "name": "stdout",
     "output_type": "stream",
     "text": [
      "enter the numbers100\n",
      "1 2 3 4 5 6 7 8 9 10 11 12 13 14 15 16 17 18 19 20 21 22 23 24 25 26 27 28 29 30 31 32 33 34 35 36 37 38 39 40 41 42 43 44 45 46 47 48 49 50 51 52 53 54 55 56 57 58 59 60 61 62 63 64 65 66 67 68 69 70 71 72 73 74 75 76 77 78 79 80 81 82 83 84 85 86 87 88 89 90 91 92 93 94 95 96 97 98 99 100 "
     ]
    }
   ],
   "source": [
    "a= int(input(\"enter the numbers\"))\n",
    "for i in range(1,101,):\n",
    "    print(i,end = \" \")"
   ]
  },
  {
   "cell_type": "code",
   "execution_count": 3,
   "metadata": {},
   "outputs": [
    {
     "name": "stdout",
     "output_type": "stream",
     "text": [
      "Enter  nums101\n",
      "0 2 4 6 8 10 12 14 16 18 20 22 24 26 28 30 32 34 36 38 40 42 44 46 48 50 52 54 56 58 60 62 64 66 68 70 72 74 76 78 80 82 84 86 88 90 92 94 96 98 100 "
     ]
    }
   ],
   "source": [
    "a= input(\"Enter  nums\")\n",
    "for i in range(0,101):\n",
    "    if i%2==0:\n",
    "        print(i,end =\" \")\n",
    "        "
   ]
  },
  {
   "cell_type": "code",
   "execution_count": 11,
   "metadata": {},
   "outputs": [
    {
     "name": "stdout",
     "output_type": "stream",
     "text": [
      "enter a num55\n",
      "odd 55\n"
     ]
    }
   ],
   "source": [
    "g = int(input(\"enter a num\"))\n",
    "if g%2 == 0:\n",
    "        print('even',g)\n",
    "else:\n",
    "        print('odd',g)\n",
    "        "
   ]
  },
  {
   "cell_type": "code",
   "execution_count": 12,
   "metadata": {},
   "outputs": [
    {
     "name": "stdout",
     "output_type": "stream",
     "text": [
      " enter table number19\n",
      "enter table length10\n",
      "19 * 1 = 19\n",
      "19 * 2 = 38\n",
      "19 * 3 = 57\n",
      "19 * 4 = 76\n",
      "19 * 5 = 95\n",
      "19 * 6 = 114\n",
      "19 * 7 = 133\n",
      "19 * 8 = 152\n",
      "19 * 9 = 171\n",
      "19 * 10 = 190\n"
     ]
    }
   ],
   "source": [
    "t = int(input(' enter table number'))\n",
    "t_len = int(input('enter table length'))\n",
    "for i in range(1,t_len+1):\n",
    "    #17*1=17\n",
    "    print('{} * {} = {}'.format(t,i,t*i))\n",
    "    "
   ]
  },
  {
   "cell_type": "code",
   "execution_count": 13,
   "metadata": {},
   "outputs": [
    {
     "name": "stdout",
     "output_type": "stream",
     "text": [
      "enter number:5\n",
      "1\n",
      "5\n"
     ]
    }
   ],
   "source": [
    "# factors of a number\n",
    "n = int(input('enter number:'))\n",
    "for i in range(1,n+1):\n",
    "    if n%i == 0:\n",
    "        print(i)"
   ]
  },
  {
   "cell_type": "code",
   "execution_count": 14,
   "metadata": {},
   "outputs": [
    {
     "name": "stdout",
     "output_type": "stream",
     "text": [
      "enter number:16\n",
      "1\n",
      "2\n",
      "4\n",
      "8\n",
      "16\n"
     ]
    }
   ],
   "source": [
    "n = int(input('enter number:'))\n",
    "for i in range(1,n+1):\n",
    "    if n%i == 0:\n",
    "        print(i)"
   ]
  },
  {
   "cell_type": "code",
   "execution_count": 16,
   "metadata": {},
   "outputs": [
    {
     "name": "stdout",
     "output_type": "stream",
     "text": [
      "enter number:6\n",
      "1\n",
      "2\n",
      "3\n",
      "6\n",
      "factors count is : 4\n"
     ]
    }
   ],
   "source": [
    "n = int(input('enter number:'))\n",
    "count = 0\n",
    "for i in range(1,n+1):\n",
    "    if n%i == 0:\n",
    "        count+=1\n",
    "        print(i)\n",
    "print('factors count is :',count)"
   ]
  },
  {
   "cell_type": "code",
   "execution_count": 17,
   "metadata": {
    "scrolled": true
   },
   "outputs": [
    {
     "name": "stdout",
     "output_type": "stream",
     "text": [
      "enter a number5\n",
      "1\n",
      "5\n",
      "factors count is : 2\n",
      "prime number\n"
     ]
    }
   ],
   "source": [
    "# to check prime or not\n",
    "n = int(input(\"enter a number\"))\n",
    "count = 0\n",
    "for i in range(1,n+1):\n",
    "    if n%i == 0:\n",
    "        count+=1\n",
    "        print(i)\n",
    "print('factors count is :',count)\n",
    "if count == 2 :\n",
    "    print('prime number')\n",
    "else:\n",
    "    print('not prime number')"
   ]
  },
  {
   "cell_type": "code",
   "execution_count": 19,
   "metadata": {},
   "outputs": [
    {
     "name": "stdout",
     "output_type": "stream",
     "text": [
      "1 2 3 4 5 6 7 8 9 10 "
     ]
    }
   ],
   "source": [
    "# while condition :\n",
    "  # statements\n",
    "i = 1 \n",
    "while(i<=10):\n",
    "    print(i,end =' ')\n",
    "    i+=1"
   ]
  },
  {
   "cell_type": "code",
   "execution_count": null,
   "metadata": {},
   "outputs": [],
   "source": []
  }
 ],
 "metadata": {
  "kernelspec": {
   "display_name": "Python 3",
   "language": "python",
   "name": "python3"
  },
  "language_info": {
   "codemirror_mode": {
    "name": "ipython",
    "version": 3
   },
   "file_extension": ".py",
   "mimetype": "text/x-python",
   "name": "python",
   "nbconvert_exporter": "python",
   "pygments_lexer": "ipython3",
   "version": "3.7.3"
  }
 },
 "nbformat": 4,
 "nbformat_minor": 2
}
